{
  "nbformat": 4,
  "nbformat_minor": 0,
  "metadata": {
    "colab": {
      "provenance": []
    },
    "kernelspec": {
      "name": "python3",
      "display_name": "Python 3"
    },
    "language_info": {
      "name": "python"
    }
  },
  "cells": [
    {
      "cell_type": "markdown",
      "source": [
        "**PATTERNS**"
      ],
      "metadata": {
        "id": "echHtFuskwPk"
      }
    },
    {
      "cell_type": "code",
      "source": [
        "#Pattern-1\n",
        "\n",
        "n=5\n",
        "for i in range(n):\n",
        "    print(\"*\"*n)"
      ],
      "metadata": {
        "colab": {
          "base_uri": "https://localhost:8080/"
        },
        "id": "uJYAhZ3pkS1U",
        "outputId": "e1d3b224-e3c5-4b25-b115-f57fe470e5be"
      },
      "execution_count": null,
      "outputs": [
        {
          "output_type": "stream",
          "name": "stdout",
          "text": [
            "*****\n",
            "*****\n",
            "*****\n",
            "*****\n",
            "*****\n"
          ]
        }
      ]
    },
    {
      "cell_type": "code",
      "source": [
        "#Pattern-2\n",
        "\n",
        "n=5\n",
        "for i in range(1,n+1):\n",
        "    for j in range(i):\n",
        "        print(\"*\",end=\"\")\n",
        "    print()"
      ],
      "metadata": {
        "colab": {
          "base_uri": "https://localhost:8080/"
        },
        "id": "oLPFTpjhmL6M",
        "outputId": "52ee7c9d-9dc9-4739-8cab-cead160b6df7"
      },
      "execution_count": null,
      "outputs": [
        {
          "output_type": "stream",
          "name": "stdout",
          "text": [
            "*\n",
            "**\n",
            "***\n",
            "****\n",
            "*****\n"
          ]
        }
      ]
    },
    {
      "cell_type": "code",
      "source": [
        "#Pattern-3\n",
        "\n",
        "n1= 5\n",
        "for i1 in range(1, n1+1):\n",
        "     for j1 in range(i1):\n",
        "         print(j1+1,end=\"\")\n",
        "     print()"
      ],
      "metadata": {
        "colab": {
          "base_uri": "https://localhost:8080/"
        },
        "id": "fr9F-UvDlhPF",
        "outputId": "007c8146-29ec-457f-bf58-471e8870606c"
      },
      "execution_count": null,
      "outputs": [
        {
          "output_type": "stream",
          "name": "stdout",
          "text": [
            "1\n",
            "12\n",
            "123\n",
            "1234\n",
            "12345\n"
          ]
        }
      ]
    },
    {
      "cell_type": "code",
      "source": [
        "#Pattern-4\n",
        "\n",
        "n2= 5\n",
        "for i2 in range(1, n1+1):\n",
        "    print(str(i2)*i2)"
      ],
      "metadata": {
        "colab": {
          "base_uri": "https://localhost:8080/"
        },
        "id": "CJ_fdFpxllZD",
        "outputId": "8ae0c635-35b1-4d29-c08d-4134a63f100d"
      },
      "execution_count": null,
      "outputs": [
        {
          "output_type": "stream",
          "name": "stdout",
          "text": [
            "\n",
            "1\n",
            "22\n",
            "333\n",
            "4444\n",
            "55555\n"
          ]
        }
      ]
    },
    {
      "cell_type": "code",
      "source": [
        "#Pattern-5\n",
        "\n",
        "n4=5\n",
        "for i4 in range(1, n4+1):\n",
        "    print(\"*\"*(n4+1-i4))"
      ],
      "metadata": {
        "colab": {
          "base_uri": "https://localhost:8080/"
        },
        "id": "z-PLuHXCmpK7",
        "outputId": "9555fd80-9fa6-45f8-8b75-80ca10f71a61"
      },
      "execution_count": null,
      "outputs": [
        {
          "output_type": "stream",
          "name": "stdout",
          "text": [
            "*****\n",
            "****\n",
            "***\n",
            "**\n",
            "*\n"
          ]
        }
      ]
    },
    {
      "cell_type": "code",
      "source": [
        "#Pattern-6\n",
        "\n",
        "n4=5\n",
        "for i4 in range(1, n4+1):\n",
        "    for j4 in range(1,((n4+2)-i4)) :\n",
        "        print(j4, end=\"\")\n",
        "    print()"
      ],
      "metadata": {
        "colab": {
          "base_uri": "https://localhost:8080/"
        },
        "id": "NfvKHgP9lpab",
        "outputId": "26a550ec-0997-478c-9fcf-a76af7486818"
      },
      "execution_count": null,
      "outputs": [
        {
          "output_type": "stream",
          "name": "stdout",
          "text": [
            "12345\n",
            "1234\n",
            "123\n",
            "12\n",
            "1\n"
          ]
        }
      ]
    },
    {
      "cell_type": "code",
      "source": [
        "#Pattern-7\n",
        "\n",
        "n5 =5\n",
        "for i5 in range(1, n5+1):\n",
        "     string = \" \"*((n5+1-i5)-1)+\"*\"*((2*i5)-1)+\" \"*((n5+1-i5)-1)\n",
        "     print(string)"
      ],
      "metadata": {
        "colab": {
          "base_uri": "https://localhost:8080/"
        },
        "id": "71tad7sYnEzq",
        "outputId": "7d4e8f6a-64fe-42ed-b4ed-f45e5499a29e"
      },
      "execution_count": null,
      "outputs": [
        {
          "output_type": "stream",
          "name": "stdout",
          "text": [
            "    *    \n",
            "   ***   \n",
            "  *****  \n",
            " ******* \n",
            "*********\n"
          ]
        }
      ]
    },
    {
      "cell_type": "code",
      "source": [
        "#Pattern-8\n",
        "\n",
        "n6=5\n",
        "for i6 in range(n6):\n",
        "    string = \" \"*i6+(\"*\"*(2*n6-(2*i6+1)))+\" \"*i6\n",
        "    print(string)"
      ],
      "metadata": {
        "colab": {
          "base_uri": "https://localhost:8080/"
        },
        "id": "cOkHChKCnTaR",
        "outputId": "7bd3400f-d36e-40f7-a476-4af18e8af0e8"
      },
      "execution_count": null,
      "outputs": [
        {
          "output_type": "stream",
          "name": "stdout",
          "text": [
            "*********\n",
            " ******* \n",
            "  *****  \n",
            "   ***   \n",
            "    *    \n"
          ]
        }
      ]
    },
    {
      "cell_type": "code",
      "source": [
        "#Pattern-9\n",
        "\n",
        "n=5\n",
        "for i in range(n):\n",
        "     string = \" \"*((n-i)-1)+\"*\"*((2*i)+1)+\" \"*((n-i)-1)\n",
        "     print(string)\n",
        "for i in range(n):\n",
        "    string = \" \"*i+(\"*\"*(2*n-(2*i+1)))+\" \"*i\n",
        "    print(string)"
      ],
      "metadata": {
        "colab": {
          "base_uri": "https://localhost:8080/"
        },
        "id": "DVLTr6Xsnb6y",
        "outputId": "f34b8edd-1def-49d4-a35d-f6ec71c8c66d"
      },
      "execution_count": null,
      "outputs": [
        {
          "output_type": "stream",
          "name": "stdout",
          "text": [
            "    *    \n",
            "   ***   \n",
            "  *****  \n",
            " ******* \n",
            "*********\n",
            "*********\n",
            " ******* \n",
            "  *****  \n",
            "   ***   \n",
            "    *    \n"
          ]
        }
      ]
    },
    {
      "cell_type": "code",
      "source": [
        "#Pattern-10\n",
        "\n",
        "n=5\n",
        "for i in range(2*n-1):\n",
        "    if i>n:\n",
        "       print(\"*\"*(2*n-i))\n",
        "    else:\n",
        "       print(\"*\"*i)"
      ],
      "metadata": {
        "colab": {
          "base_uri": "https://localhost:8080/"
        },
        "id": "H-QQ6ibAnoo-",
        "outputId": "b49d97a7-f645-4b32-9f53-62c3b45aa7a5"
      },
      "execution_count": null,
      "outputs": [
        {
          "output_type": "stream",
          "name": "stdout",
          "text": [
            "\n",
            "*\n",
            "**\n",
            "***\n",
            "****\n",
            "*****\n",
            "****\n",
            "***\n",
            "**\n"
          ]
        }
      ]
    },
    {
      "cell_type": "code",
      "source": [
        "#Pattern-11\n",
        "\n",
        "n=5\n",
        "\n",
        "for i in range(1,n+1):\n",
        "    if i%2==0:\n",
        "      start=0\n",
        "    else:\n",
        "      start=1\n",
        "    for j in range(i):\n",
        "       print(start,end=\"\")\n",
        "       start=1-start\n",
        "    print()"
      ],
      "metadata": {
        "colab": {
          "base_uri": "https://localhost:8080/"
        },
        "id": "6vwGMdjWn76b",
        "outputId": "4f64347b-ef50-4d22-b4f2-42af2158095c"
      },
      "execution_count": null,
      "outputs": [
        {
          "output_type": "stream",
          "name": "stdout",
          "text": [
            "1\n",
            "01\n",
            "101\n",
            "0101\n",
            "10101\n"
          ]
        }
      ]
    },
    {
      "cell_type": "code",
      "source": [
        "#Pattern-12\n",
        "\n",
        "n=4\n",
        "\n",
        "for i in range(1,n+1):\n",
        "    for j in range(1,i+1):\n",
        "       print(j,end=\"\")\n",
        "\n",
        "    print(\" \"*(2*n-(2*i)),end=\"\")\n",
        "\n",
        "    for j in range(i,0,-1):\n",
        "      print(j,end=\"\")\n",
        "    print()"
      ],
      "metadata": {
        "colab": {
          "base_uri": "https://localhost:8080/"
        },
        "id": "IIrgdH5Kpwl5",
        "outputId": "846cacbe-49ef-46d9-8d39-4fd1a45f3327"
      },
      "execution_count": null,
      "outputs": [
        {
          "output_type": "stream",
          "name": "stdout",
          "text": [
            "1      1\n",
            "12    21\n",
            "123  321\n",
            "12344321\n"
          ]
        }
      ]
    },
    {
      "cell_type": "code",
      "source": [
        "#Pattern -13\n",
        "n=5\n",
        "sum=0\n",
        "for i in range(1,n+1):\n",
        "  for j in range(1,i+1):\n",
        "    sum+=1\n",
        "    print(sum,end=\" \")\n",
        "  print()"
      ],
      "metadata": {
        "colab": {
          "base_uri": "https://localhost:8080/"
        },
        "id": "ZsMGFyEZC4YN",
        "outputId": "e5f43f1d-6580-44e9-eabd-bdbe53881594"
      },
      "execution_count": null,
      "outputs": [
        {
          "output_type": "stream",
          "name": "stdout",
          "text": [
            "1 \n",
            "2 3 \n",
            "4 5 6 \n",
            "7 8 9 10 \n",
            "11 12 13 14 15 \n"
          ]
        }
      ]
    },
    {
      "cell_type": "code",
      "source": [
        "#Pattern - 14\n",
        "\n",
        "ord(\"A\")\n",
        "\n",
        "n=5\n",
        "for i in range(1,n+1):\n",
        "  for j in range(i):\n",
        "    print(chr(ord(\"A\")+j),end=\"\")\n",
        "  print()"
      ],
      "metadata": {
        "colab": {
          "base_uri": "https://localhost:8080/"
        },
        "id": "aiFQzTg_D0ay",
        "outputId": "6b184629-97b8-4436-8bbb-28363b6ef315"
      },
      "execution_count": null,
      "outputs": [
        {
          "output_type": "stream",
          "name": "stdout",
          "text": [
            "A\n",
            "AB\n",
            "ABC\n",
            "ABCD\n",
            "ABCDE\n"
          ]
        }
      ]
    },
    {
      "cell_type": "code",
      "source": [
        "#Pattern - 15\n",
        "\n",
        "ord(\"A\")\n",
        "\n",
        "n=5\n",
        "for i in range(1,n+1):\n",
        "  for j in range(0,(n+1-i)):\n",
        "    print(chr(ord(\"A\")+j),end=\"\")\n",
        "  print()"
      ],
      "metadata": {
        "colab": {
          "base_uri": "https://localhost:8080/"
        },
        "id": "1PcKMgn8EenZ",
        "outputId": "3b82ddc4-813c-4a23-9f6f-7f1ca00895f8"
      },
      "execution_count": null,
      "outputs": [
        {
          "output_type": "stream",
          "name": "stdout",
          "text": [
            "ABCDE\n",
            "ABCD\n",
            "ABC\n",
            "AB\n",
            "A\n"
          ]
        }
      ]
    },
    {
      "cell_type": "code",
      "source": [
        "#Pattern-16\n",
        "\n",
        "n=5\n",
        "for i in range(n):\n",
        "    print(chr(ord(\"A\")+i)*(i+1))\n",
        "\n"
      ],
      "metadata": {
        "colab": {
          "base_uri": "https://localhost:8080/"
        },
        "id": "F6nHj7cXE7_E",
        "outputId": "782f229f-bd8d-4dd2-c530-f01b2b6a11db"
      },
      "execution_count": null,
      "outputs": [
        {
          "output_type": "stream",
          "name": "stdout",
          "text": [
            "A\n",
            "BB\n",
            "CCC\n",
            "DDDD\n",
            "EEEEE\n"
          ]
        }
      ]
    },
    {
      "cell_type": "code",
      "source": [
        "n=4\n",
        "\n",
        "for i in range(n):\n",
        "  print(\"*\"*(n-1))\n",
        "\n",
        "  for j in range(2*i+1):\n",
        "    if j>(((2*i+1)//2)):\n",
        "      print(chr(ord(\"A\")+j))\n",
        "    else:\n",
        "      print(chr(ord(\"A\")+j))\n"
      ],
      "metadata": {
        "id": "-KDqlcJ6F2re"
      },
      "execution_count": null,
      "outputs": []
    },
    {
      "cell_type": "markdown",
      "source": [
        "**Brute Force Algorithm or Linear search algorithm**\n",
        "\n",
        "Problem:\n",
        "--------\n",
        "\n",
        "Find out the index of a given number with least number of choices"
      ],
      "metadata": {
        "id": "ZRiFOKZ7OsMe"
      }
    },
    {
      "cell_type": "code",
      "source": [
        "cards = [ 5,7,4,3,9,18,19,13,14,6,7,2,1,16,15,21,23,27,39,37,33,28]\n",
        "print(f\"len(cards) is :{len(cards)}\")\n",
        "\n",
        "sort_cards = sorted(list(set(cards)))\n",
        "print(f\"sort_cards is : {sort_cards} \")\n",
        "Qry_number = int(input(\"enter the number:\"))\n",
        "\n",
        "if len(sort_cards)>0:\n",
        "   for value in range(len(sort_cards)):\n",
        "        if sort_cards[value]==Qry_number:\n",
        "           print(\"Found the number at index:\",value)\n",
        "           break\n"
      ],
      "metadata": {
        "colab": {
          "base_uri": "https://localhost:8080/"
        },
        "id": "fLutUKy2Oszu",
        "outputId": "90955989-7bce-4aa0-99a6-b8e92d3beb91"
      },
      "execution_count": null,
      "outputs": [
        {
          "output_type": "stream",
          "name": "stdout",
          "text": [
            "len(cards) is :22\n",
            "sort_cards is : [1, 2, 3, 4, 5, 6, 7, 9, 13, 14, 15, 16, 18, 19, 21, 23, 27, 28, 33, 37, 39] \n",
            "enter the number:28\n",
            "Found the number at index: 17\n"
          ]
        }
      ]
    },
    {
      "cell_type": "code",
      "source": [
        "# 0+21 =\n",
        "21//2"
      ],
      "metadata": {
        "colab": {
          "base_uri": "https://localhost:8080/"
        },
        "id": "PgDuloYLoi4H",
        "outputId": "1882661a-c1c1-4bb5-db62-0b26db3e0283"
      },
      "execution_count": null,
      "outputs": [
        {
          "output_type": "execute_result",
          "data": {
            "text/plain": [
              "10"
            ]
          },
          "metadata": {},
          "execution_count": 7
        }
      ]
    },
    {
      "cell_type": "markdown",
      "source": [
        "The above shown answer is brute force algorithm,it iterates through each and every element of the list,whenever it finds a match it gives the index and break out of the loop.For smaller lists containing upto 50 elements it works very good.But if the sizze of the list is very large,it takes very huge amount of time. So to overcome that we use Binary Search Algorithm"
      ],
      "metadata": {
        "id": "1W2X1XtdQhTF"
      }
    },
    {
      "cell_type": "markdown",
      "source": [
        "**Binary Search Algorithm**"
      ],
      "metadata": {
        "id": "GW78IkAHRV70"
      }
    },
    {
      "cell_type": "code",
      "execution_count": null,
      "metadata": {
        "colab": {
          "base_uri": "https://localhost:8080/"
        },
        "id": "IlJEyW_BOmda",
        "outputId": "5e052de9-e470-44ec-a8e5-76395d1589f8"
      },
      "outputs": [
        {
          "output_type": "stream",
          "name": "stdout",
          "text": [
            "len(cards) is :22\n",
            "enter the number:28\n",
            " number found at the index:17\n"
          ]
        }
      ],
      "source": [
        "\n",
        "\n",
        "cards = [ 5,7,4,3,9,18,19,13,14,6,7,2,1,16,15,21,23,27,39,37,33,28]\n",
        "print(f\"len(cards) is :{len(cards)}\")\n",
        "\n",
        "sort_cards = sorted(list(set(cards)))\n",
        "Qry_number = int(input(\"enter the number:\"))\n",
        "\n",
        "lower_index =0\n",
        "higher_index = len(sort_cards)-1\n",
        "\n",
        "while lower_index <=higher_index:\n",
        "\n",
        "     mid = (lower_index+higher_index)//2\n",
        "     if sort_cards[mid]==Qry_number:\n",
        "         print(f\" number found at the index:{mid}\")\n",
        "         break\n",
        "     elif sort_cards[mid]>Qry_number:\n",
        "         higher_index = mid-1\n",
        "     else:\n",
        "         lower_index = mid+1\n",
        "\n",
        "\n"
      ]
    },
    {
      "cell_type": "markdown",
      "source": [
        "what if it contains Duplicate elements"
      ],
      "metadata": {
        "id": "LVbLj5bWs621"
      }
    },
    {
      "cell_type": "code",
      "source": [
        "cards = [ 5,7,4,3,9,18,9,19,13,9,14,6,7,2,9,1,16,15,9,21,23,27,39,37,33,28]\n",
        "print(f\"len(cards) is :{len(cards)}\")\n",
        "\n",
        "# sort_cards = sorted(list(set(cards)))\n",
        "\n",
        "#without removing duplicates\n",
        "sort_cards = sorted(list(cards))\n",
        "\n",
        "print(f\"sort_cards are {sort_cards}\")\n",
        "Qry_number = int(input(\"enter the number:\"))\n",
        "\n",
        "\n",
        "def locate_index(sort_cards,Qry_number):\n",
        "     lower_index =0\n",
        "     higher_index = len(sort_cards)-1\n",
        "\n",
        "     while lower_index <=higher_index:\n",
        "        mid = (lower_index+higher_index)//2\n",
        "        if sort_cards[mid]==Qry_number:\n",
        "            print(f\"counts of the query number is: {sort_cards.count(Qry_number)} \")\n",
        "            if sort_cards.count(Qry_number)>1:\n",
        "                sort_cards.index(Qry_number)\n",
        "            print(f\" number found at the index:{sort_cards.index(Qry_number)}\")\n",
        "            break\n",
        "        elif sort_cards[mid]>Qry_number:\n",
        "            higher_index = mid-1\n",
        "        else:\n",
        "            lower_index = mid+1\n",
        "locate_index(sort_cards,Qry_number)\n",
        "\n",
        "\n",
        "\n"
      ],
      "metadata": {
        "colab": {
          "base_uri": "https://localhost:8080/"
        },
        "id": "T6eSr2O6s6OI",
        "outputId": "8a5df453-54b3-4bd7-ee94-1bd8f2fb2e74"
      },
      "execution_count": null,
      "outputs": [
        {
          "output_type": "stream",
          "name": "stdout",
          "text": [
            "len(cards) is :26\n",
            "sort_cards are [1, 2, 3, 4, 5, 6, 7, 7, 9, 9, 9, 9, 9, 13, 14, 15, 16, 18, 19, 21, 23, 27, 28, 33, 37, 39]\n",
            "enter the number:9\n",
            "counts of the query number is: 5 \n",
            " number found at the index:8\n"
          ]
        }
      ]
    },
    {
      "cell_type": "markdown",
      "source": [
        "**Removing Negetive Elements present in a list with ZERO**"
      ],
      "metadata": {
        "id": "YVuYZyMe9RBa"
      }
    },
    {
      "cell_type": "code",
      "source": [
        "matrix = [[1, 2, -3], [2, 1, -5], [0, 0, -1]]\n",
        "\n",
        "# Iterate through the matrix and replace negative elements with zero\n",
        "for i in range(len(matrix)):\n",
        "    for j in range(len(matrix[i])):\n",
        "        if matrix[i][j] < 0:\n",
        "            matrix[i][j] = 0\n",
        "\n",
        "# Print the modified matrix\n",
        "print(matrix)"
      ],
      "metadata": {
        "colab": {
          "base_uri": "https://localhost:8080/"
        },
        "id": "9lsiLrCQzA8L",
        "outputId": "0335a8d5-eec2-4e4f-ff54-66cfdd0ac43c"
      },
      "execution_count": null,
      "outputs": [
        {
          "output_type": "stream",
          "name": "stdout",
          "text": [
            "[[1, 2, 0], [2, 1, 0], [0, 0, 0]]\n"
          ]
        }
      ]
    },
    {
      "cell_type": "markdown",
      "source": [
        "**Parsing Json data**\n",
        "\n",
        "Parsing json data means converting the Json data  a python dictionary object.\n",
        "\n",
        "**Generating Json data**\n",
        "\n",
        "Generating Json data mean converting python dictionary object into Json string.\n",
        "\n",
        "**validating json data**\n",
        "\n",
        "Checking the given data is json data or not"
      ],
      "metadata": {
        "id": "if4Og5fU9tQy"
      }
    },
    {
      "cell_type": "markdown",
      "source": [
        "**From the above if you see that if there are duplicates of the query number,it founds out the **"
      ],
      "metadata": {
        "id": "sXvScI2TufOL"
      }
    },
    {
      "cell_type": "code",
      "source": [
        "#Parsing Json data\n",
        "\n",
        "import json\n",
        "person = '{\"name\":\"Prasanna Kumar\",\"age\":\"30\",\"rank\":10}'\n",
        "data = json.loads(person)\n",
        "\n",
        "print(data['name'])\n",
        "print(data[\"rank\"])"
      ],
      "metadata": {
        "colab": {
          "base_uri": "https://localhost:8080/"
        },
        "id": "c819BlKZ-ePs",
        "outputId": "5ae8dc62-9063-4ad8-8bf4-1331804d698c"
      },
      "execution_count": null,
      "outputs": [
        {
          "output_type": "stream",
          "name": "stdout",
          "text": [
            "Prasanna Kumar\n",
            "10\n"
          ]
        }
      ]
    },
    {
      "cell_type": "code",
      "source": [
        "#Generating Json data\n",
        "import json\n",
        "\n",
        "person = {\"name\":\"Prasanna Kumar\",\"age\":\"30\",\"rank\":10}\n",
        "\n",
        "json_string = json.dumps(person)\n",
        "\n",
        "print(f\"json string is {json_string}\")"
      ],
      "metadata": {
        "colab": {
          "base_uri": "https://localhost:8080/"
        },
        "id": "5xKiUlSI_HPG",
        "outputId": "e5abfa14-f7ed-4d6c-af3c-860faa5d8209"
      },
      "execution_count": null,
      "outputs": [
        {
          "output_type": "stream",
          "name": "stdout",
          "text": [
            "json string is {\"name\": \"Prasanna Kumar\", \"age\": \"30\", \"rank\": 10}\n"
          ]
        }
      ]
    },
    {
      "cell_type": "markdown",
      "source": [],
      "metadata": {
        "id": "2PAa30fGOoEf"
      }
    }
  ]
}